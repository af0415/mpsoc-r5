{
  "nbformat": 4,
  "nbformat_minor": 0,
  "metadata": {
    "colab": {
      "name": "mnist-for-tf-micro.ipynb",
      "version": "0.3.2",
      "provenance": [],
      "collapsed_sections": [
        "DLGrUErS6foh"
      ],
      "toc_visible": true
    },
    "kernelspec": {
      "name": "python3",
      "display_name": "Python 3"
    },
    "accelerator": "GPU"
  },
  "cells": [
    {
      "cell_type": "markdown",
      "metadata": {
        "id": "wCn8run3d2Mp",
        "colab_type": "text"
      },
      "source": [
        "# MNIST for TF Lite for micro controllers"
      ]
    },
    {
      "cell_type": "markdown",
      "metadata": {
        "id": "_NvfJGVhd-Ql",
        "colab_type": "text"
      },
      "source": [
        "***\n",
        "\n",
        "## Model"
      ]
    },
    {
      "cell_type": "code",
      "metadata": {
        "id": "b2KScpk-dta5",
        "colab_type": "code",
        "colab": {}
      },
      "source": [
        "import tensorflow as tf"
      ],
      "execution_count": 0,
      "outputs": []
    },
    {
      "cell_type": "code",
      "metadata": {
        "id": "h55tZ1OreLIl",
        "colab_type": "code",
        "outputId": "ed68041d-99df-443c-dffb-362aff15d792",
        "colab": {
          "base_uri": "https://localhost:8080/",
          "height": 34
        }
      },
      "source": [
        "print('TensorFlow version: ', tf.__version__)"
      ],
      "execution_count": 2,
      "outputs": [
        {
          "output_type": "stream",
          "text": [
            "TensorFlow version:  1.14.0-rc1\n"
          ],
          "name": "stdout"
        }
      ]
    },
    {
      "cell_type": "code",
      "metadata": {
        "id": "0GCEum_Ad1rt",
        "colab_type": "code",
        "colab": {}
      },
      "source": [
        "(x_train, y_train), (x_test, y_test) = tf.keras.datasets.mnist.load_data()"
      ],
      "execution_count": 0,
      "outputs": []
    },
    {
      "cell_type": "code",
      "metadata": {
        "id": "lxvp7BTteXyd",
        "colab_type": "code",
        "colab": {}
      },
      "source": [
        "x_train = x_train / 255.0\n",
        "x_test = x_test / 255.0"
      ],
      "execution_count": 0,
      "outputs": []
    },
    {
      "cell_type": "code",
      "metadata": {
        "id": "flsoC7ycqMhI",
        "colab_type": "code",
        "colab": {}
      },
      "source": [
        "x_train = x_train.reshape(x_train.shape[0], 28, 28, 1)\n",
        "x_test = x_test.reshape(x_test.shape[0], 28, 28, 1)"
      ],
      "execution_count": 0,
      "outputs": []
    },
    {
      "cell_type": "markdown",
      "metadata": {
        "id": "xoJW1kdtJ1oK",
        "colab_type": "text"
      },
      "source": [
        "- https://stackoverflow.com/questions/53249386/valueerror-input-0-is-incompatible-with-layer-conv2d-1-expected-ndim-4-found"
      ]
    },
    {
      "cell_type": "code",
      "metadata": {
        "id": "4rWnPMfHd1uW",
        "colab_type": "code",
        "outputId": "ba645c27-5e36-4c44-f2f5-0af89f83ad11",
        "colab": {
          "base_uri": "https://localhost:8080/",
          "height": 105
        }
      },
      "source": [
        "model = tf.keras.models.Sequential([\n",
        "    tf.keras.layers.Conv2D(4, (3,3), strides=(2,2), activation='relu', input_shape=(28, 28, 1)),\n",
        "    tf.keras.layers.Conv2D(6, (3,3), strides=(2,2), activation='relu'),\n",
        "    tf.keras.layers.Flatten(input_shape=(32, 7, 7)),\n",
        "    tf.keras.layers.Dense(200, activation=tf.nn.relu),\n",
        "    tf.keras.layers.Dropout(0.2),\n",
        "    tf.keras.layers.Dense(10, activation=tf.nn.softmax)\n",
        "])\n",
        "\n",
        "#     tf.keras.layers.Reshape((28,28,1)),"
      ],
      "execution_count": 6,
      "outputs": [
        {
          "output_type": "stream",
          "text": [
            "WARNING: Logging before flag parsing goes to stderr.\n",
            "W0628 10:45:45.897986 140693523052416 deprecation.py:506] From /usr/local/lib/python3.6/dist-packages/tensorflow/python/ops/init_ops.py:1251: calling VarianceScaling.__init__ (from tensorflow.python.ops.init_ops) with dtype is deprecated and will be removed in a future version.\n",
            "Instructions for updating:\n",
            "Call initializer instance with the dtype argument instead of passing it to the constructor\n"
          ],
          "name": "stderr"
        }
      ]
    },
    {
      "cell_type": "code",
      "metadata": {
        "id": "25tKhXpId1zX",
        "colab_type": "code",
        "colab": {}
      },
      "source": [
        "model.compile(optimizer='adam',\n",
        "              loss='sparse_categorical_crossentropy',\n",
        "              metrics=['accuracy'])"
      ],
      "execution_count": 0,
      "outputs": []
    },
    {
      "cell_type": "code",
      "metadata": {
        "id": "fXubmrHQOX0D",
        "colab_type": "code",
        "outputId": "15721fe0-e1e7-4b40-89c4-d3658e04608d",
        "colab": {
          "base_uri": "https://localhost:8080/",
          "height": 357
        }
      },
      "source": [
        "model.summary()"
      ],
      "execution_count": 8,
      "outputs": [
        {
          "output_type": "stream",
          "text": [
            "Model: \"sequential\"\n",
            "_________________________________________________________________\n",
            "Layer (type)                 Output Shape              Param #   \n",
            "=================================================================\n",
            "conv2d (Conv2D)              (None, 13, 13, 4)         40        \n",
            "_________________________________________________________________\n",
            "conv2d_1 (Conv2D)            (None, 6, 6, 6)           222       \n",
            "_________________________________________________________________\n",
            "flatten (Flatten)            (None, 216)               0         \n",
            "_________________________________________________________________\n",
            "dense (Dense)                (None, 200)               43400     \n",
            "_________________________________________________________________\n",
            "dropout (Dropout)            (None, 200)               0         \n",
            "_________________________________________________________________\n",
            "dense_1 (Dense)              (None, 10)                2010      \n",
            "=================================================================\n",
            "Total params: 45,672\n",
            "Trainable params: 45,672\n",
            "Non-trainable params: 0\n",
            "_________________________________________________________________\n"
          ],
          "name": "stdout"
        }
      ]
    },
    {
      "cell_type": "code",
      "metadata": {
        "id": "6Gu0Rifqd1w8",
        "colab_type": "code",
        "outputId": "b9d533ae-34c5-4504-e8a8-d83882579c2b",
        "colab": {
          "base_uri": "https://localhost:8080/",
          "height": 714
        }
      },
      "source": [
        "model.fit(x_train, y_train, epochs=20)"
      ],
      "execution_count": 9,
      "outputs": [
        {
          "output_type": "stream",
          "text": [
            "Epoch 1/20\n",
            "60000/60000 [==============================] - 8s 140us/sample - loss: 0.2792 - acc: 0.9180\n",
            "Epoch 2/20\n",
            "60000/60000 [==============================] - 7s 123us/sample - loss: 0.1161 - acc: 0.9646\n",
            "Epoch 3/20\n",
            "60000/60000 [==============================] - 7s 124us/sample - loss: 0.0885 - acc: 0.9728\n",
            "Epoch 4/20\n",
            "60000/60000 [==============================] - 7s 123us/sample - loss: 0.0727 - acc: 0.9773\n",
            "Epoch 5/20\n",
            "60000/60000 [==============================] - 7s 123us/sample - loss: 0.0638 - acc: 0.9799\n",
            "Epoch 6/20\n",
            "60000/60000 [==============================] - 7s 124us/sample - loss: 0.0560 - acc: 0.9817\n",
            "Epoch 7/20\n",
            "60000/60000 [==============================] - 7s 124us/sample - loss: 0.0489 - acc: 0.9840\n",
            "Epoch 8/20\n",
            "60000/60000 [==============================] - 7s 124us/sample - loss: 0.0438 - acc: 0.9853\n",
            "Epoch 9/20\n",
            "60000/60000 [==============================] - 7s 123us/sample - loss: 0.0397 - acc: 0.9869\n",
            "Epoch 10/20\n",
            "60000/60000 [==============================] - 7s 123us/sample - loss: 0.0359 - acc: 0.9875\n",
            "Epoch 11/20\n",
            "60000/60000 [==============================] - 7s 124us/sample - loss: 0.0334 - acc: 0.9888\n",
            "Epoch 12/20\n",
            "60000/60000 [==============================] - 7s 124us/sample - loss: 0.0309 - acc: 0.9897\n",
            "Epoch 13/20\n",
            "60000/60000 [==============================] - 7s 123us/sample - loss: 0.0284 - acc: 0.9904\n",
            "Epoch 14/20\n",
            "60000/60000 [==============================] - 7s 123us/sample - loss: 0.0256 - acc: 0.9915\n",
            "Epoch 15/20\n",
            "60000/60000 [==============================] - 7s 124us/sample - loss: 0.0256 - acc: 0.9914\n",
            "Epoch 16/20\n",
            "60000/60000 [==============================] - 7s 123us/sample - loss: 0.0232 - acc: 0.9922\n",
            "Epoch 17/20\n",
            "60000/60000 [==============================] - 7s 123us/sample - loss: 0.0219 - acc: 0.9929\n",
            "Epoch 18/20\n",
            "60000/60000 [==============================] - 7s 123us/sample - loss: 0.0212 - acc: 0.9929\n",
            "Epoch 19/20\n",
            "60000/60000 [==============================] - 7s 124us/sample - loss: 0.0201 - acc: 0.9930\n",
            "Epoch 20/20\n",
            "60000/60000 [==============================] - 7s 123us/sample - loss: 0.0195 - acc: 0.9935\n"
          ],
          "name": "stdout"
        },
        {
          "output_type": "execute_result",
          "data": {
            "text/plain": [
              "<tensorflow.python.keras.callbacks.History at 0x7ff579cf5ba8>"
            ]
          },
          "metadata": {
            "tags": []
          },
          "execution_count": 9
        }
      ]
    },
    {
      "cell_type": "markdown",
      "metadata": {
        "id": "RRGIRdN-KEdH",
        "colab_type": "text"
      },
      "source": [
        "- Accuracy:"
      ]
    },
    {
      "cell_type": "code",
      "metadata": {
        "id": "wwj5OM2td118",
        "colab_type": "code",
        "outputId": "2f89292b-37db-417a-f610-4319ce5d8619",
        "colab": {
          "base_uri": "https://localhost:8080/",
          "height": 51
        }
      },
      "source": [
        "model.evaluate(x_test, y_test)"
      ],
      "execution_count": 10,
      "outputs": [
        {
          "output_type": "stream",
          "text": [
            "10000/10000 [==============================] - 1s 72us/sample - loss: 0.0574 - acc: 0.9842\n"
          ],
          "name": "stdout"
        },
        {
          "output_type": "execute_result",
          "data": {
            "text/plain": [
              "[0.05737222185545952, 0.9842]"
            ]
          },
          "metadata": {
            "tags": []
          },
          "execution_count": 10
        }
      ]
    },
    {
      "cell_type": "markdown",
      "metadata": {
        "id": "uF8Ar59Hp7rX",
        "colab_type": "text"
      },
      "source": [
        "## Create model fot TF Lite micro"
      ]
    },
    {
      "cell_type": "code",
      "metadata": {
        "id": "SIsIVNxGp_rD",
        "colab_type": "code",
        "colab": {
          "base_uri": "https://localhost:8080/",
          "height": 241
        },
        "outputId": "cf316fb5-c9b6-4ec0-e15b-3cd74e49cec6"
      },
      "source": [
        "model.save('model.h5')\n",
        "converter = tf.lite.TFLiteConverter.from_keras_model_file('model.h5' )"
      ],
      "execution_count": 11,
      "outputs": [
        {
          "output_type": "stream",
          "text": [
            "W0628 10:48:17.102269 140693523052416 deprecation.py:506] From /usr/local/lib/python3.6/dist-packages/tensorflow/python/ops/init_ops.py:97: calling GlorotUniform.__init__ (from tensorflow.python.ops.init_ops) with dtype is deprecated and will be removed in a future version.\n",
            "Instructions for updating:\n",
            "Call initializer instance with the dtype argument instead of passing it to the constructor\n",
            "W0628 10:48:17.103962 140693523052416 deprecation.py:506] From /usr/local/lib/python3.6/dist-packages/tensorflow/python/ops/init_ops.py:97: calling Zeros.__init__ (from tensorflow.python.ops.init_ops) with dtype is deprecated and will be removed in a future version.\n",
            "Instructions for updating:\n",
            "Call initializer instance with the dtype argument instead of passing it to the constructor\n",
            "W0628 10:48:17.885139 140693523052416 deprecation.py:323] From /usr/local/lib/python3.6/dist-packages/tensorflow/lite/python/util.py:238: convert_variables_to_constants (from tensorflow.python.framework.graph_util_impl) is deprecated and will be removed in a future version.\n",
            "Instructions for updating:\n",
            "Use `tf.compat.v1.graph_util.convert_variables_to_constants`\n",
            "W0628 10:48:17.887089 140693523052416 deprecation.py:323] From /usr/local/lib/python3.6/dist-packages/tensorflow/python/framework/graph_util_impl.py:270: extract_sub_graph (from tensorflow.python.framework.graph_util_impl) is deprecated and will be removed in a future version.\n",
            "Instructions for updating:\n",
            "Use `tf.compat.v1.graph_util.extract_sub_graph`\n"
          ],
          "name": "stderr"
        }
      ]
    },
    {
      "cell_type": "code",
      "metadata": {
        "id": "9cO796DUqJOL",
        "colab_type": "code",
        "colab": {
          "base_uri": "https://localhost:8080/",
          "height": 34
        },
        "outputId": "c31aecfe-b8da-489e-e8ff-e900fbb1358a"
      },
      "source": [
        "tflite_model = converter.convert()\n",
        "open(\"model_float.tflite\", \"wb\").write(tflite_model)"
      ],
      "execution_count": 12,
      "outputs": [
        {
          "output_type": "execute_result",
          "data": {
            "text/plain": [
              "184448"
            ]
          },
          "metadata": {
            "tags": []
          },
          "execution_count": 12
        }
      ]
    },
    {
      "cell_type": "code",
      "metadata": {
        "id": "OUKSuaJhqPT3",
        "colab_type": "code",
        "colab": {
          "base_uri": "https://localhost:8080/",
          "height": 153
        },
        "outputId": "09ea868e-510e-4769-ee86-989aca42bc6f"
      },
      "source": [
        "!sudo apt-get install xxd"
      ],
      "execution_count": 13,
      "outputs": [
        {
          "output_type": "stream",
          "text": [
            "Reading package lists... Done\n",
            "Building dependency tree       \n",
            "Reading state information... Done\n",
            "xxd is already the newest version (2:8.0.1453-1ubuntu1.1).\n",
            "The following package was automatically installed and is no longer required:\n",
            "  libnvidia-common-410\n",
            "Use 'sudo apt autoremove' to remove it.\n",
            "0 upgraded, 0 newly installed, 0 to remove and 16 not upgraded.\n"
          ],
          "name": "stdout"
        }
      ]
    },
    {
      "cell_type": "code",
      "metadata": {
        "id": "pOKX-0KXqNGg",
        "colab_type": "code",
        "colab": {}
      },
      "source": [
        "!xxd -i model_float.tflite > model_float.cc"
      ],
      "execution_count": 0,
      "outputs": []
    },
    {
      "cell_type": "markdown",
      "metadata": {
        "id": "NNzV5POMY8O9",
        "colab_type": "text"
      },
      "source": [
        "## Test"
      ]
    },
    {
      "cell_type": "code",
      "metadata": {
        "id": "sgnCSDYZ1b6S",
        "colab_type": "code",
        "colab": {}
      },
      "source": [
        "import numpy as np"
      ],
      "execution_count": 0,
      "outputs": []
    },
    {
      "cell_type": "code",
      "metadata": {
        "id": "L-EyKSqvYWvr",
        "colab_type": "code",
        "colab": {}
      },
      "source": [
        "# Load TFLite model and allocate tensors.\n",
        "interpreter = tf.lite.Interpreter(model_path=\"model_float.tflite\")\n",
        "interpreter.allocate_tensors()"
      ],
      "execution_count": 0,
      "outputs": []
    },
    {
      "cell_type": "code",
      "metadata": {
        "id": "BvT2plsdoWlB",
        "colab_type": "code",
        "colab": {}
      },
      "source": [
        "# Get input and output tensors.\n",
        "input_details = interpreter.get_input_details()\n",
        "output_details = interpreter.get_output_details()"
      ],
      "execution_count": 0,
      "outputs": []
    },
    {
      "cell_type": "code",
      "metadata": {
        "id": "QqXpLHIRoWhs",
        "colab_type": "code",
        "colab": {}
      },
      "source": [
        "# Test model on test data.\n",
        "y = np.zeros(x_test.shape[0])\n",
        "\n",
        "input_shape = input_details[0]['shape']\n",
        "\n",
        "input_data = np.expand_dims( np.array(x_test[0], dtype=np.float32), axis=0 )\n",
        "interpreter.set_tensor(input_details[0]['index'], input_data)  \n",
        "interpreter.invoke()\n",
        "output_data = interpreter.get_tensor(output_details[0]['index'])\n",
        "\n",
        "y = np.argmax(output_data, axis=1)"
      ],
      "execution_count": 0,
      "outputs": []
    },
    {
      "cell_type": "code",
      "metadata": {
        "id": "MonJjz3zrjfe",
        "colab_type": "code",
        "colab": {
          "base_uri": "https://localhost:8080/",
          "height": 85
        },
        "outputId": "c9015dc9-16f8-48b5-ce93-48277e3d7902"
      },
      "source": [
        "print('Final output: %d' % y[0])\n",
        "print(output_data)"
      ],
      "execution_count": 20,
      "outputs": [
        {
          "output_type": "stream",
          "text": [
            "Final output: 7\n",
            "[[1.11092004e-11 8.06480228e-15 1.88968641e-09 3.40899433e-08\n",
            "  1.40474485e-14 1.13910187e-10 1.89211557e-22 1.00000000e+00\n",
            "  6.73124967e-12 4.93871291e-08]]\n"
          ],
          "name": "stdout"
        }
      ]
    },
    {
      "cell_type": "markdown",
      "metadata": {
        "id": "DLGrUErS6foh",
        "colab_type": "text"
      },
      "source": [
        "## Visualize"
      ]
    },
    {
      "cell_type": "code",
      "metadata": {
        "id": "8dZShLzm54IK",
        "colab_type": "code",
        "colab": {}
      },
      "source": [
        "from  matplotlib import pyplot "
      ],
      "execution_count": 0,
      "outputs": []
    },
    {
      "cell_type": "code",
      "metadata": {
        "id": "ocMPblKc6Ahx",
        "colab_type": "code",
        "outputId": "c821218f-4b2d-4b8a-878b-849e54870d15",
        "colab": {
          "base_uri": "https://localhost:8080/",
          "height": 298
        }
      },
      "source": [
        "pyplot.imshow(x_test[0].reshape(28, 28), cmap='gray')\n",
        "pyplot.title(y[0])"
      ],
      "execution_count": 22,
      "outputs": [
        {
          "output_type": "execute_result",
          "data": {
            "text/plain": [
              "Text(0.5, 1.0, '7')"
            ]
          },
          "metadata": {
            "tags": []
          },
          "execution_count": 22
        },
        {
          "output_type": "display_data",
          "data": {
            "image/png": "[encoded data removed]",
            "text/plain": [
              "<Figure size 432x288 with 1 Axes>"
            ]
          },
          "metadata": {
            "tags": []
          }
        }
      ]
    }
  ]
}